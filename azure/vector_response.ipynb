{
 "cells": [
  {
   "cell_type": "code",
   "execution_count": 5,
   "metadata": {},
   "outputs": [],
   "source": [
    "from dotenv import load_dotenv\n",
    "import os\n",
    "import time\n",
    "import json\n",
    "import pymongo\n",
    "\n",
    "from openai import AzureOpenAI\n",
    "from dotenv import load_dotenv\n",
    "from tenacity import retry, wait_random_exponential, stop_after_attempt"
   ]
  },
  {
   "cell_type": "code",
   "execution_count": 2,
   "metadata": {},
   "outputs": [],
   "source": [
    "load_dotenv()\n",
    "CONNECTION_STRING = os.environ.get(\"DB_CONNECTION_STRING\")\n",
    "client = pymongo.MongoClient(CONNECTION_STRING)\n",
    "# Create database to hold cosmic works data\n",
    "# MongoDB will create the database if it does not exist\n",
    "db = client.cms_open\n"
   ]
  },
  {
   "cell_type": "code",
   "execution_count": 3,
   "metadata": {},
   "outputs": [],
   "source": [
    "EMBEDDINGS_DEPLOYMENT_NAME = \"text-embedding-3-small\"\n",
    "COMPLETIONS_DEPLOYMENT_NAME = \"gpt-4\"\n",
    "AOAI_ENDPOINT = os.environ.get(\"AOAI_ENDPOINT\")\n",
    "AOAI_KEY = os.environ.get(\"AOAI_KEY\")\n",
    "AOAI_API_VERSION = \"2024-02-01\""
   ]
  },
  {
   "cell_type": "code",
   "execution_count": 4,
   "metadata": {},
   "outputs": [],
   "source": [
    "ai_client = AzureOpenAI(\n",
    "    azure_endpoint = AOAI_ENDPOINT,\n",
    "    api_version = AOAI_API_VERSION,\n",
    "    api_key = AOAI_KEY\n",
    "    )"
   ]
  },
  {
   "cell_type": "code",
   "execution_count": 6,
   "metadata": {},
   "outputs": [],
   "source": [
    "@retry(wait=wait_random_exponential(min=1, max=20), stop=stop_after_attempt(3))\n",
    "def generate_embeddings(text: str):\n",
    "    '''\n",
    "    Generate embeddings from string of text using the deployed Azure OpenAI API embeddings model.\n",
    "    This will be used to vectorize document data and incoming user messages for a similarity search with\n",
    "    the vector index.\n",
    "    '''\n",
    "    response = ai_client.embeddings.create(input=text, model=EMBEDDINGS_DEPLOYMENT_NAME)\n",
    "    embeddings = response.data[0].embedding\n",
    "    time.sleep(0.5) # rest period to avoid rate limiting on AOAI\n",
    "    return embeddings"
   ]
  },
  {
   "cell_type": "code",
   "execution_count": 7,
   "metadata": {},
   "outputs": [],
   "source": [
    "def vector_search(collection_name, query, num_results=3):\n",
    "    \"\"\"\n",
    "    Perform a vector search on the specified collection by vectorizing\n",
    "    the query and searching the vector index for the most similar documents.\n",
    "\n",
    "    returns a list of the top num_results most similar documents\n",
    "    \"\"\"\n",
    "    collection = db[collection_name]\n",
    "    query_embedding = generate_embeddings(query)    \n",
    "    pipeline = [\n",
    "        {\n",
    "            '$search': {\n",
    "                \"cosmosSearch\": {\n",
    "                    \"vector\": query_embedding,\n",
    "                    \"path\": \"contentVector\",\n",
    "                    \"k\": num_results\n",
    "                },\n",
    "                \"returnStoredSource\": True }},\n",
    "        {'$project': { 'similarityScore': { '$meta': 'searchScore' }, 'document' : '$$ROOT' } }\n",
    "    ]\n",
    "    results = collection.aggregate(pipeline)\n",
    "    return results\n",
    "\n",
    "def print_chunk_search_result(result):\n",
    "    '''\n",
    "    Print the search result document in a readable format\n",
    "    '''\n",
    "    print(f\"Similarity Score: {result['similarityScore']}\")  \n",
    "    print(f\"_id: {result['document']['_id']}\\n\")"
   ]
  },
  {
   "cell_type": "code",
   "execution_count": 8,
   "metadata": {},
   "outputs": [],
   "source": [
    "system_prompt = \"\"\"\n",
    "You are a helpful, fun and friendly healthcare policy expert, with a focus on publications from the CMS. \n",
    "\n",
    "You are designed to answer questions about how rule changes will impact users from various roles in the healthcare industry.\n",
    "\n",
    "Answer questions related to the information provided in the list of text chunks below that are represented\n",
    "in JSON format.\n",
    "\n",
    "\"\"\""
   ]
  },
  {
   "cell_type": "code",
   "execution_count": 9,
   "metadata": {},
   "outputs": [],
   "source": [
    "def rag_with_vector_search(question: str, num_results: int = 3):\n",
    "    \"\"\"\n",
    "    Use the RAG model to generate a prompt using vector search results based on the\n",
    "    incoming question.  \n",
    "    \"\"\"\n",
    "    # perform the vector search and build document chunk list\n",
    "    results = vector_search(\"cms_open\", question, num_results=num_results)\n",
    "    chunk_list = \"\"\n",
    "    for result in results:\n",
    "        if \"contentVector\" in result[\"document\"]:\n",
    "            del result[\"document\"][\"contentVector\"]\n",
    "        chunk_list += json.dumps(result[\"document\"], indent=4, default=str) + \"\\n\\n\"\n",
    "\n",
    "    # generate prompt for the LLM with vector results\n",
    "    formatted_prompt = system_prompt + chunk_list\n",
    "\n",
    "    # prepare the LLM request\n",
    "    messages = [\n",
    "        {\"role\": \"system\", \"content\": formatted_prompt},\n",
    "        {\"role\": \"user\", \"content\": question}\n",
    "    ]\n",
    "\n",
    "    completion = ai_client.chat.completions.create(messages=messages, model=COMPLETIONS_DEPLOYMENT_NAME)\n",
    "    return completion.choices[0].message.content"
   ]
  },
  {
   "cell_type": "code",
   "execution_count": 10,
   "metadata": {},
   "outputs": [
    {
     "name": "stdout",
     "output_type": "stream",
     "text": [
      "The rules highlighted in the texts can significantly affect your practice:\n",
      "\n",
      "1. Change to Z Codes Severity for Homelessness: The severity level designation for the social determinants of health (SDOH) diagnosis codes describing homelessness will be changed from non-complication or comorbidity (NonCC) to complication or comorbidity (CC) starting FY 2024 (Text ID: c59f8b9c-64a0-4432-8b8a-367a58b995cc). This change recognizes homelessness as an indicator of increased resource utilization in the acute inpatient hospital setting, which could potentially result in increased funding or resources for care of homeless patients.\n",
      "\n",
      "2. Rule Changes for Rural Hospitals: For rural hospitals, changes are coming through the TEAM model (Text ID: f59f7097-51c5-4658-939d-42ce23736287). This may influence how your practice is funded or operates. Additionally, \"Rural Extension Hospitals (REH)\" status will be available for facilities that meet certain specifications (Text ID: 174a5f84-a17c-4889-8239-d476acd467be). Although specifics were not directly stated in the excerpts, these initiatives aim to alleviate workforce shortages and better serve rural communities.\n",
      "\n",
      "3. Changes to Reporting Programs: The Long-Term Care Hospital Quality Reporting Program (LTCH QRP) and the Medicare Promoting Interoperability Program are being updated (Text ID: c59f8b9c-64a0-4432-8b8a-367a58b995cc). These changes could impact the data you're expected to report and potentially the amount of funding you receive.\n",
      "\n",
      "It's recommended to consult with a healthcare policy expert or legal advisor to fully understand how these changes will impact your practice. You can also provide feedback or raise concerns to CMS during their comment periods.\n"
     ]
    }
   ],
   "source": [
    "print(rag_with_vector_search(\"What rule changes are going to affect me, a doctor in rural Colorado that has a large number of homeless patients.\", 5))"
   ]
  }
 ],
 "metadata": {
  "kernelspec": {
   "display_name": "cmsopengpt",
   "language": "python",
   "name": "python3"
  },
  "language_info": {
   "codemirror_mode": {
    "name": "ipython",
    "version": 3
   },
   "file_extension": ".py",
   "mimetype": "text/x-python",
   "name": "python",
   "nbconvert_exporter": "python",
   "pygments_lexer": "ipython3",
   "version": "3.11.8"
  }
 },
 "nbformat": 4,
 "nbformat_minor": 2
}
